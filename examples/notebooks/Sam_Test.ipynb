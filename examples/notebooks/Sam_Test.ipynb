{
 "cells": [
  {
   "cell_type": "code",
   "execution_count": null,
   "metadata": {},
   "outputs": [],
   "source": [
    "import datetime as dt\n",
    "import doekbase.data_api.object as object\n",
    "print dt.datetime.now()\n",
    "services = { \"workspace_service_url\": \"https://ci.kbase.us/services/ws/\",  \"shock_service_url\": \"https://ci.kbase.us/services/shock-api/\", }\n",
    "object_api = object.ObjectAPI(services, ref=\"PrototypeReferenceGenomes/kb|g.3899\")\n",
    "print object_api.get_typestring()\n",
    "print object_api.get_id()\n",
    "print object_api.get_name()\n",
    "print object_api.get_info()\n",
    "print dt.datetime.now()"
   ]
  },
  {
   "cell_type": "code",
   "execution_count": null,
   "metadata": {},
   "outputs": [],
   "source": [
    "print dt.datetime.now()\n",
    "data = object_api.get_data()\n",
    "print dt.datetime.now()\n",
    "print data"
   ]
  },
  {
   "cell_type": "code",
   "execution_count": null,
   "metadata": {},
   "outputs": [],
   "source": [
    "import datetime\n",
    "print datetime.datetime.now()\n",
    "ws = doekbase.data_api.browse('1013')\n",
    "Ath = ws[\"kb|g.3899\"]\n",
    "print Ath\n",
    "#CDS_List = Ath.object.get_feature_ids(type_list=['CDS'])\n",
    "Proteins = Ath.object.get_proteins()\n",
    "print datetime.datetime.now()\n",
    "for key, value in Proteins.items():\n",
    "    print value['protein_id']+' '+value['function']+' '+value['amino_acid_sequence']\n",
    "    break"
   ]
  },
  {
   "cell_type": "markdown",
   "metadata": {},
   "source": [
    "### Annotation\n",
    "1) Retrieve id and sequences of proteins\n",
    "2) Feed into Annotation server\n",
    "3) Returns id and functional annotation of proteins\n",
    "4) Update and save functional annotation string in function field of proteins\n",
    "\n",
    "Input:\n",
    "    Genome\n",
    "    Transcriptome\n",
    "    Protein Fasta (Functional annotation could feasibly be stored in \"comment\" field of sequence header)\n",
    "    FeatureSet    (RNA-Seq pipeline produces this, but, at this point in time, no sequences are directly\n",
    "                   associated with it so sequences would have to be fetched from reference genome object)\n",
    "Output:\n",
    "    Where possible the output object type is the same as the input object type, albeit with updated functions"
   ]
  },
  {
   "cell_type": "markdown",
   "metadata": {},
   "source": [
    "### Modeling\n",
    "1) Retrieve id and functional annotation of proteins\n",
    "2) Feed into model reconstruction process\n",
    "3) Builds a set of reactions, where each reaction has a list of feature references\n",
    "4) Expression Matrix, with references to same features, can be applied during Flux Balance Analysis\n",
    "\n",
    "Input:\n",
    "    Genome (currently only one implemented)\n",
    "    Transcriptome\n",
    "    Protein Fasta\n",
    "    FeatureSet\n",
    "    \n",
    "Output:\n",
    "    Metabolic Reconstruction with references to features in input object\n",
    "    \n",
    "NB: It is not *required* that object is annotated, but resulting model will not have any reactions!"
   ]
  },
  {
   "cell_type": "markdown",
   "metadata": {},
   "source": [
    "### RNA-Seq Pipeline\n",
    "1) Retrieves set of raw reads\n",
    "2) Assembles reads into Transcriptome object using reference Genome\n",
    "3) Produces FeatureSet/ExpressionMatrix with a list of references to features in Transcriptome/Genome object\n",
    "\n",
    "Input:\n",
    "    Reads\n",
    "    Reference Genome\n",
    "    \n",
    "Output:\n",
    "    Transcriptome\n",
    "    FeatureSet\n",
    "    ExpressionMatrix"
   ]
  },
  {
   "cell_type": "markdown",
   "metadata": {},
   "source": [
    "### External References\n",
    "Currently, in any workspace object that contains a reference to a feature in a genome object, the reference looks like this:\n",
    "\n",
    "549/5/2/features/id/RSP_2777\n",
    "\n",
    "When rendering a workspace object in a narrative widget or landing pages, these references become links, loading the correct feature from the parent genome object. So whether one is browsing a metabolic model, or an expression matrix, etc. they should be able to click on a link, and observe the attributes of the linked feature.\n",
    "\n",
    "I don't know how this would be implemented in the api, but I don't know how the reference string would be formulated so that the right feature is retrieved every time?"
   ]
  }
 ],
 "metadata": {
  "kernelspec": {
   "display_name": "Python 2",
   "language": "python",
   "name": "python2"
  },
  "language_info": {
   "codemirror_mode": {
    "name": "ipython",
    "version": 2.0
   },
   "file_extension": ".py",
   "mimetype": "text/x-python",
   "name": "python",
   "nbconvert_exporter": "python",
   "pygments_lexer": "ipython2",
   "version": "2.7.10"
  }
 },
 "nbformat": 4,
 "nbformat_minor": 0
}