{
 "cells": [
  {
   "cell_type": "code",
   "execution_count": 1,
   "metadata": {},
   "outputs": [],
   "source": [
    "import os\n",
    "os.environ['KB_AUTH_TOKEN'] = open('/tmp/kb_auth_token.txt').read().strip()"
   ]
  },
  {
   "cell_type": "code",
   "execution_count": 2,
   "metadata": {},
   "outputs": [
    {
     "name": "stderr",
     "output_type": "stream",
     "text": [
      "/Users/marcin/miniconda/envs/kbase-data-api/lib/python2.7/site-packages/IPython/utils/traitlets.py:5: UserWarning: IPython.utils.traitlets has moved to a top-level traitlets package.\n",
      "  warn(\"IPython.utils.traitlets has moved to a top-level traitlets package.\")\n"
     ]
    }
   ],
   "source": [
    "import biokbase\n",
    "import biokbase.data_api.tests as tests\n",
    "import biokbase.data_api.object\n",
    "import biokbase.data_api.assembly\n",
    "import biokbase.data_api.taxon\n",
    "import biokbase.data_api.genome_annotation\n",
    "import pandas as pd\n",
    "import numpy as np\n",
    "import qgrid as qg\n",
    "qg.nbinstall()\n",
    "import matplotlib\n",
    "import matplotlib.pyplot as plt\n",
    "from matplotlib.font_manager import FontProperties\n",
    "%matplotlib inline\n",
    "\n",
    "services = {\n",
    "        \"workspace_service_url\": \"https://ci.kbase.us/services/ws/\",\n",
    "        \"shock_service_url\": \"https://ci.kbase.us/services/shock-api/\",\n",
    "    }"
   ]
  },
  {
   "cell_type": "code",
   "execution_count": 3,
   "metadata": {},
   "outputs": [],
   "source": [
    "def get_genome_summary(genome_annotation=None):\n",
    "    if genome_annotation == None:\n",
    "        raise TypeError(\"No GenomeAnnotation object given.\")\n",
    "    elif genome_annotation.get_typestring().split('-')[0] not in biokbase.data_api.genome_annotation.TYPES:\n",
    "        raise TypeError(\"{0} is not a recognized GenomeAnnotation type.\".format(type(genome_annotation)))\n",
    "    \n",
    "    taxon = genome_annotation.get_taxon()\n",
    "    assembly = genome_annotation.get_assembly()\n",
    "    \n",
    "    overview = dict()\n",
    "    \n",
    "    #get tax info\n",
    "    taxon_details = dict()\n",
    "    taxon_details[\"taxonomic_id\"] = taxon.get_taxonomic_id()\n",
    "    taxon_details[\"kingdom\"] = taxon.get_kingdom()\n",
    "    taxon_details[\"domain\"] = taxon.get_domain()\n",
    "    taxon_details[\"genetic_code\"] = taxon.get_genetic_code()\n",
    "    taxon_details[\"scientific_name\"] = taxon.get_scientific_name()\n",
    "    taxon_details[\"aliases\"] = taxon.get_aliases()\n",
    "    taxon_details[\"scientific_lineage\"] = taxon.get_scientific_lineage()\n",
    "\n",
    "    overview[\"taxon\"] = taxon_details\n",
    "    \n",
    "    #get assembly info\n",
    "    assembly_details = dict()\n",
    "    assembly_details[\"number_of_contigs\"] = assembly.get_number_contigs()\n",
    "    assembly_details[\"total_length\"] = assembly.get_dna_size()\n",
    "    assembly_details[\"total_gc_content\"] = assembly.get_gc_content()\n",
    "    assembly_details[\"contig_length\"] = assembly.get_contig_lengths()\n",
    "    assembly_details[\"contig_gc_content\"] = assembly.get_contig_gc_content()\n",
    "    \n",
    "    overview[\"assembly\"] = assembly_details\n",
    "    \n",
    "    #get annotation info\n",
    "    annotation_details = dict()\n",
    "    annotation_details[\"feature_types\"] = genome_annotation.get_feature_types()\n",
    "    annotation_details[\"feature_type_descriptions\"] = genome_annotation.get_feature_type_descriptions(annotation_details[\"feature_types\"])\n",
    "    annotation_details[\"feature_type_counts\"] = genome_annotation.get_feature_type_counts(annotation_details[\"feature_types\"])\n",
    "    \n",
    "    overview[\"annotation\"] = annotation_details\n",
    "    \n",
    "    return overview"
   ]
  },
  {
   "cell_type": "code",
   "execution_count": 8,
   "metadata": {},
   "outputs": [],
   "source": [
    "import pprint\n",
    "import datetime\n",
    "\n",
    "def parse_all_existing_annotations():\n",
    "    annotations = dict()\n",
    "    for x in object_list:\n",
    "        if x.type.startswith(\"KBaseGenomes.Genome\"):\n",
    "            annotations[x.name] = x\n",
    "    return annotations\n",
    "\n",
    "b = biokbase.data_api.browse(1011)\n",
    "object_list = b.ls()\n",
    "\n",
    "test = b[\"kb|g.3157\"]#object_list#\n",
    "\n",
    "#annotations = {}\n",
    "#for n in object_list:\n",
    "#    annotations.update({n.name:n.object})"
   ]
  },
  {
   "cell_type": "code",
   "execution_count": null,
   "metadata": {},
   "outputs": [
    {
     "name": "stdout",
     "output_type": "stream",
     "text": [
      "0\n",
      "kb|g.207120\n"
     ]
    },
    {
     "data": {
      "text/html": [
       "<html><b>Genome</b>: Desulfovibrio zosterae DSM 11974<br><b>GC content</b>: 0.418<br><b>Total DNA sequence length</b>: '4,090,168'<br><b>Number of contigs</b>:19</html>"
      ]
     },
     "output_type": "execute_result",
     "metadata": {}
    }
   ],
   "source": [
    "from IPython.display import display, HTML\n",
    "\n",
    "annotations_subset = {b[1].name: b[1].object, b[2].name: b[2].object}\n",
    "\n",
    "overview = []\n",
    "count = 0\n",
    "for n in annotations_subset:\n",
    "    print count\n",
    "    print n\n",
    "    #if count < 100 :\n",
    "    over_now = get_genome_summary(annotations_subset[n])\n",
    "    overview.append(over_now)\n",
    "    #print over_now[\"assembly\"][\"number_of_contigs\"]\n",
    "    string_for_html = '<html><b>Genome</b>: ' + \\\n",
    "    over_now[\"taxon\"][\"scientific_name\"] +\\\n",
    "    '<br><b>GC content</b>: ' + \\\n",
    "    `round(over_now[\"assembly\"][\"total_gc_content\"],3)` +\\\n",
    "    '<br><b>Total DNA sequence length</b>: ' +\\\n",
    "    `(\"{:,}\".format(over_now[\"assembly\"][\"total_length\"])).replace(\"'\",\"\")` +\\\n",
    "    '<br><b>Number of contigs</b>:' +\\\n",
    "    `over_now[\"assembly\"][\"number_of_contigs\"]` +\\\n",
    "    \"</html>\"\n",
    "    display(HTML(string_for_html))\n",
    "    #count = count +1\n",
    "    #print count"
   ]
  },
  {
   "cell_type": "code",
   "execution_count": 10,
   "metadata": {},
   "outputs": [
    {
     "data": {
      "text/plain": [
       "_ObjectInfo(objid=250, name=u'kb|g.3157', type=u'KBaseGenomes.Genome-8.0', save_date=u'2015-08-01T03:38:07+0000', version=1, saved_by=u'kbasetest', wsid=1011, workspace=u'OriginalReferenceGenomes', chsum=u'c58ec47b46dc348fa9841a80668d5a96', size=31731401, meta=None)"
      ]
     },
     "execution_count": 10,
     "output_type": "execute_result",
     "metadata": {}
    }
   ],
   "source": [
    "b[1]"
   ]
  },
  {
   "cell_type": "code",
   "execution_count": null,
   "metadata": {},
   "outputs": [],
   "source": [
    ""
   ]
  }
 ],
 "metadata": {
  "kernelspec": {
   "display_name": "Python 2",
   "language": "python",
   "name": "python2"
  },
  "language_info": {
   "codemirror_mode": {
    "name": "ipython",
    "version": 2.0
   },
   "file_extension": ".py",
   "mimetype": "text/x-python",
   "name": "python",
   "nbconvert_exporter": "python",
   "pygments_lexer": "ipython2",
   "version": "2.7.10"
  }
 },
 "nbformat": 4,
 "nbformat_minor": 0
}