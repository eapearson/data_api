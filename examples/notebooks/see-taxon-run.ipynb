{
 "cells": [
  {
   "cell_type": "code",
   "execution_count": 1,
   "metadata": {},
   "outputs": [],
   "source": [
    "import os\n",
    "os.environ['KB_AUTH_TOKEN'] = open('/tmp/kb_auth_token.txt').read().strip()"
   ]
  },
  {
   "cell_type": "code",
   "execution_count": 2,
   "metadata": {},
   "outputs": [],
   "source": [
    "from doekbase import data_api\n",
    "from doekbase.data_api import display"
   ]
  },
  {
   "cell_type": "code",
   "execution_count": 3,
   "metadata": {},
   "outputs": [],
   "source": [
    "b = data_api.browse(654)"
   ]
  },
  {
   "cell_type": "code",
   "execution_count": 4,
   "metadata": {},
   "outputs": [],
   "source": [
    "genomes = [item.object for item in b\n",
    "    if item.type.startswith('KBaseGenomesCondensedPrototypeV2.GenomeAnnotation')]"
   ]
  },
  {
   "cell_type": "code",
   "execution_count": 15,
   "metadata": {},
   "outputs": [],
   "source": [
    "g0 = genomes[0]"
   ]
  },
  {
   "cell_type": "code",
   "execution_count": 12,
   "metadata": {},
   "outputs": [],
   "source": [
    "class Classification(display.TemplateMixin):\n",
    "    \"\"\"Taxonomic classification.\n",
    "\n",
    "    Attributes:\n",
    "      taxon (TaxonAPI): base taxon\n",
    "      name (str): Scientific name\n",
    "      children (list of TaxonAPI): List of TaxonAPI objects\n",
    "      parents (list of Taxon\n",
    "    \"\"\"\n",
    "    template = '''{% for name in classification %}\n",
    "    <span style=\"margin-left: {{ loop.index0 * 10 }}px\">\n",
    "    <span style=\"font-size: 50%\">&gt;</span>&nbsp;{{ name }}\n",
    "    </span><br>{% endfor %}'''\n",
    "\n",
    "    def __init__(self, obj):\n",
    "        \"\"\"Create from a taxon.\n",
    "\n",
    "        Args:\n",
    "          obj: TaxonAPI object or object with `get_taxon`.\n",
    "        \"\"\"\n",
    "        display.TemplateMixin.__init__(self)\n",
    "        self.taxon = obj.get_taxon() if hasattr(obj, 'get_taxon') else obj\n",
    "        self.name = self.taxon.get_scientific_name()\n",
    "        self.children = self.taxon.get_children() or []\n",
    "        tx, self.parents = self.taxon, []\n",
    "        while tx:\n",
    "            tx = tx.get_parent()\n",
    "            if tx:\n",
    "                self.parents.insert(tx.get_scientific_name(), 0)\n",
    "        self.classification = self.parents + [self.name] + [\n",
    "            child.get_scientific_name() for child in self.children]\n",
    "\n",
    "    def _repr_html_(self):\n",
    "        return self.render(classification=self.classification)"
   ]
  },
  {
   "cell_type": "code",
   "execution_count": 16,
   "metadata": {},
   "outputs": [
    {
     "data": {
      "text/html": [
       "\n",
       "    <span style=\"margin-left: 0px\">\n",
       "    <span style=\"font-size: 50%\">&gt;</span>&nbsp;Arabidopsis thaliana\n",
       "    </span><br>"
      ]
     },
     "output_type": "execute_result",
     "metadata": {}
    }
   ],
   "source": [
    "Classification(g0)"
   ]
  },
  {
   "cell_type": "code",
   "execution_count": null,
   "metadata": {},
   "outputs": [],
   "source": [
    ""
   ]
  }
 ],
 "metadata": {
  "kernelspec": {
   "display_name": "Python 2",
   "language": "python",
   "name": "python2"
  },
  "language_info": {
   "codemirror_mode": {
    "name": "ipython",
    "version": 2.0
   },
   "file_extension": ".py",
   "mimetype": "text/x-python",
   "name": "python",
   "nbconvert_exporter": "python",
   "pygments_lexer": "ipython2",
   "version": "2.7.10"
  }
 },
 "nbformat": 4,
 "nbformat_minor": 0
}