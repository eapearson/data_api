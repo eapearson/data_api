{
 "cells": [
  {
   "cell_type": "code",
   "execution_count": 1,
   "metadata": {
    "collapsed": true
   },
   "outputs": [],
   "source": [
    "import os\n",
    "os.environ['KB_AUTH_TOKEN'] = open('/tmp/kb_auth_token.txt').read().strip()"
   ]
  },
  {
   "cell_type": "code",
   "execution_count": 2,
   "metadata": {
    "collapsed": false
   },
   "outputs": [
    {
     "name": "stderr",
     "output_type": "stream",
     "text": [
      "/Users/marcin/miniconda/envs/kbase-data-api/lib/python2.7/site-packages/IPython/utils/traitlets.py:5: UserWarning: IPython.utils.traitlets has moved to a top-level traitlets package.\n",
      "  warn(\"IPython.utils.traitlets has moved to a top-level traitlets package.\")\n"
     ]
    }
   ],
   "source": [
    "import biokbase\n",
    "import biokbase.data_api.tests as tests\n",
    "import biokbase.data_api.object\n",
    "import biokbase.data_api.assembly\n",
    "import biokbase.data_api.taxon\n",
    "import biokbase.data_api.genome_annotation\n",
    "import pandas as pd\n",
    "import numpy as np\n",
    "import qgrid as qg\n",
    "qg.nbinstall()\n",
    "import matplotlib\n",
    "import matplotlib.pyplot as plt\n",
    "from matplotlib.font_manager import FontProperties\n",
    "%matplotlib inline"
   ]
  },
  {
   "cell_type": "code",
   "execution_count": 3,
   "metadata": {
    "collapsed": false
   },
   "outputs": [
    {
     "name": "stdout",
     "output_type": "stream",
     "text": [
      "GENOME_ANNOTATION_Escherichia_coli_K12\n",
      "feat_count_data\n",
      "[1 1]\n",
      "opr\n",
      "[649 649]\n",
      "pbs\n",
      "[7 7]\n",
      "prm\n",
      "[191 191]\n",
      "rna\n",
      "[170 170]\n",
      "CDS\n",
      "[4309 4309]\n"
     ]
    },
    {
     "data": {
      "text/plain": [
       "array([[   1,    1],\n",
       "       [ 649,  649],\n",
       "       [   7,    7],\n",
       "       [ 191,  191],\n",
       "       [ 170,  170],\n",
       "       [4309, 4309]])"
      ]
     },
     "execution_count": 3,
     "metadata": {},
     "output_type": "execute_result"
    }
   ],
   "source": [
    "services = {\n",
    "        \"workspace_service_url\": \"https://ci.kbase.us/services/ws/\",\n",
    "        \"shock_service_url\": \"https://ci.kbase.us/services/shock-api/\",\n",
    "    }\n",
    "genome_annotation_api = biokbase.data_api.genome_annotation.GenomeAnnotationAPI(services, ref=\"testCondensedGenomeV2/GENOME_ANNOTATION_Escherichia_coli_K12\")\n",
    "\n",
    "###taxon api code\n",
    "#taxon_ref=genome_annotation_api.get_taxon_ref()\n",
    "#taxon_api = biokbase.data_api.taxon.TaxonAPI(services, ref=taxon_ref)\n",
    "#gname=taxon_api(services, taxon_ref).get_scientific_name()\n",
    "#print gname#genome_annotation_api.get_name()\n",
    "\n",
    "gname=genome_annotation_api.get_name()\n",
    "print gname\n",
    "\n",
    "feature_types = genome_annotation_api.get_feature_types()\n",
    "feat_count_data = np.random.random_integers(0, 1, 2)#.reshape(1, 1)\n",
    "print \"feat_count_data\"\n",
    "print feat_count_data\n",
    "for i in range(1, len(feature_types)) :\n",
    "    print feature_types[i]\n",
    "    feature_ids=genome_annotation_api.get_feature_ids_by_type([feature_types[i]])\n",
    "    feature_add=sum([len(feature_ids[x]) for x in feature_ids]) \n",
    "    feature_add =np.array([feature_add, feature_add])\n",
    "    print feature_add\n",
    "    feat_count_data = np.row_stack((feat_count_data, feature_add))\n",
    "feat_count_data\n"
   ]
  },
  {
   "cell_type": "code",
   "execution_count": null,
   "metadata": {
    "collapsed": true
   },
   "outputs": [],
   "source": []
  }
 ],
 "metadata": {
  "kernelspec": {
   "display_name": "Python 2",
   "language": "python",
   "name": "python2"
  },
  "language_info": {
   "codemirror_mode": {
    "name": "ipython",
    "version": 2
   },
   "file_extension": ".py",
   "mimetype": "text/x-python",
   "name": "python",
   "nbconvert_exporter": "python",
   "pygments_lexer": "ipython2",
   "version": "2.7.10"
  }
 },
 "nbformat": 4,
 "nbformat_minor": 0
}
